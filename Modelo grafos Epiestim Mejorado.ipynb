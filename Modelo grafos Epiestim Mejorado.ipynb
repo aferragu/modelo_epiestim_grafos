{
 "cells": [
  {
   "cell_type": "markdown",
   "metadata": {
    "slideshow": {
     "slide_type": "slide"
    }
   },
   "source": [
    "# Modelo de grafos basado en modelo EpiEstim\n",
    "\n",
    "### A. Ferragut - GACH D3\n",
    "\n",
    "-------"
   ]
  },
  {
   "cell_type": "code",
   "execution_count": null,
   "metadata": {
    "slideshow": {
     "slide_type": "skip"
    }
   },
   "outputs": [],
   "source": [
    "#Paquetes\n",
    "using Distributions, Plots, LaTeXStrings\n",
    "default(size=(900,400))\n",
    "\n",
    "#shifted gamma from Cori et al.\n",
    "function shifted_gamma(k,a,b)\n",
    "    \n",
    "    res = k * cdf(Gamma(a,b),k) +  (k - 2) * cdf(Gamma(a,b),k-2) - 2 * (k - 1) * cdf(Gamma(a,b),k - 1)\n",
    "\n",
    "    res = res + a * b * (2 * cdf(Gamma(a+1,b),k - 1) -  cdf(Gamma(a + 1, b),k - 2) - cdf(Gamma(a+1,b),k))\n",
    "\n",
    "    return res\n",
    "    \n",
    "end\n",
    "\n",
    "#Serial Interval from Cori et al.\n",
    "function si_cori(k,mu=3.95,sigma=4.75,T=30)\n",
    "\n",
    "    a = ((mu - 1) / sigma)^2\n",
    "    b = sigma^2 / (mu - 1)\n",
    "\n",
    "    return shifted_gamma(k,a,b)\n",
    "\n",
    "end\n",
    "\n",
    "##Con la geometrica para comparar\n",
    "function si_geom(k,mean=3.95,T=30)\n",
    "\n",
    "    p=1.0/mean\n",
    "    return pdf(Geometric(p),k-1)\n",
    "    \n",
    "end;\n",
    "\n",
    "function si_bn(k,mean=3.95,sigma=4.75, T=30)\n",
    "    \n",
    "    p = mean/sigma\n",
    "    r = mean*p/(1-p)\n",
    "    dist=NegativeBinomial(r,p)\n",
    "    return pdf.(dist,k-1)\n",
    "end\n",
    "\n",
    "#Fijamos la que usamos por defecto\n",
    "si_distr = si_cori"
   ]
  },
  {
   "cell_type": "markdown",
   "metadata": {
    "slideshow": {
     "slide_type": "slide"
    }
   },
   "source": [
    "### Ejemplo: shifted Gamma (Cori et. al)\n",
    "\n",
    "Cori et al. proponen para el SI una distribución Gamma trasladada y discretizada. Tomando por ejemplo $\\mu=3.95$, $\\sigma = 4.75$ (valores para COVID de  [Du et al](https://wwwnc.cdc.gov/eid/article/26/6/20-0357_article)) tenemos:"
   ]
  },
  {
   "cell_type": "code",
   "execution_count": null,
   "metadata": {
    "slideshow": {
     "slide_type": "fragment"
    }
   },
   "outputs": [],
   "source": [
    "mu=3.95\n",
    "sigma=4.75\n",
    "T=30\n",
    "scatter((0:T),si_distr.((0:T)),label=:none, xlabel=L\"s\", ylabel=L\"w_s\")"
   ]
  },
  {
   "cell_type": "code",
   "execution_count": null,
   "metadata": {},
   "outputs": [],
   "source": [
    "w=si_distr.(1:30)\n",
    "\n",
    "R=2.0\n",
    "hijos_1 = R*w[1]\n",
    "hijos_2 = hijos_1 + hijos_1*R*w[1] + R*w[2]\n",
    "hijos_3 = hijos_2 + hijos_1*R*w[2] + hijos_2*R*w[1] + R*w[3]\n",
    "hijos_totales = hijos_1+hijos_2+hijos_3\n",
    "hijos_totales-R*(w[1]+w[2]+w[3])\n"
   ]
  },
  {
   "cell_type": "markdown",
   "metadata": {
    "slideshow": {
     "slide_type": "slide"
    }
   },
   "source": [
    "### El parámetro $R$ y la reproducción del virus.\n",
    "\n",
    "Supongamos que una persona que se infecta el día $t$, puede generar nuevas infecciones en días subsiguientes como:\n",
    "\n",
    "$$N_{t+s}^0 \\sim Poisson(Rw_{s}),$$\n",
    "\n",
    "independientes para cada día. Aquí $R$ es un parámetro que mide el crecimiento/decrecimiento de la epidemia, y el superíndice $0$ indica que hablamos de un infectado particular.\n",
    "\n",
    "Se tiene que:\n",
    "\n",
    "$$R = \\sum_s R w_s = E\\left[\\sum_s N^0_{t+s}\\right].$$\n",
    "\n",
    "Es decir $R$ es el número medio de contagios generados por un único infectado (supuesto fijo por ahora).\n"
   ]
  },
  {
   "cell_type": "markdown",
   "metadata": {
    "slideshow": {
     "slide_type": "slide"
    }
   },
   "source": [
    "### Evolución del no. de infectados\n",
    "\n",
    "Si ahora los proceos de contagio de cada infectado son independientes, podemos sumar las v.a. Poisson de generadas por cada uno para obtener una nueva v.a. Poisson. En particular, si hay $I_0,I_1,\\ldots,I_{t-1}$ infectados nuevos cada día, definimos:\n",
    "\n",
    "$$\\Lambda_t = \\sum_{s<t} I_s w_{t-s}.$$\n",
    "\n",
    "La interpretación de $\\Lambda_t$ es la cantidad media de infectados que generan en $t$ los infectados previamente, si $R=1$.\n",
    "\n",
    "La cantidad nueva de infectados en tiempo $t$ es entonces:\n",
    "\n",
    "$$I_t \\sim Poisson(R\\Lambda_t)$$\n",
    "\n",
    "ya que es la superposición de los procesos de contagio anteriores."
   ]
  },
  {
   "cell_type": "markdown",
   "metadata": {
    "slideshow": {
     "slide_type": "slide"
    }
   },
   "source": [
    "### DInámica de la epidemia para $R$ fijo.\n",
    "\n",
    "Tenemos entonces completamente definida la dinámica de la epidemia, a partir de un cierto no. de infectados iniciales $I_0$. Para construir el proceso (o simularlo) debemos hacer:\n",
    "\n",
    "> **Dinámica**\n",
    "> Dados $I_0,\\ldots,I_{t-1}$, construimos: $$\\Lambda_t = \\sum_{s<t} I_s w_{t-s}.$$\n",
    ">\n",
    "> Luego, sorteamos: $$I_{t+1} \\sim Poisson(R\\Lambda_t)$$\n",
    ">\n",
    "> Avanzamos $t\\to t+1$ y continuamos.\n",
    "\n",
    "Para un histórico de infectados $I_0,\\ldots,I_t$ hasta tiempo $t$ y un $R$ fijo, podemos propagar la epidemia a futuro una ventana de tiempo y realizar intervalos de confianza via Monte Carlo."
   ]
  },
  {
   "cell_type": "code",
   "execution_count": null,
   "metadata": {
    "slideshow": {
     "slide_type": "slide"
    }
   },
   "outputs": [],
   "source": [
    "#Funcion que ejecuta el estimador. La ventana tau es 7 por defecto.\n",
    "using DSP\n",
    "\n",
    "function epi_estim_R(incidence;window=7, si=si_distr)\n",
    "    days = 1:length(incidence)\n",
    "    w=si.(0:30);\n",
    "    Lambda=filt(w,[1.0],incidence)\n",
    "\n",
    "    a0 = 1;\n",
    "    b0 = 5;\n",
    "\n",
    "    R=zeros(size(days))\n",
    "    Rl=zeros(size(days))\n",
    "    Ru=zeros(size(days))\n",
    "\n",
    "    a=zeros(size(days))\n",
    "    b=zeros(size(days))\n",
    "    \n",
    "    for i=1:length(days)\n",
    "        a[i] = a0 + filt(ones(window),[1.0],incidence[1:i])[end]\n",
    "        b[i] = 1/(1/b0 + filt(ones(window),[1.0],Lambda[1:i])[end])\n",
    "        R[i] = a[i]*b[i]\n",
    "        \n",
    "        d=Gamma(a[i],b[i])\n",
    "        Rl[i] = quantile(d,0.025)\n",
    "        Ru[i] = quantile(d,0.975)\n",
    "    end\n",
    "    return R, Rl,Ru, a, b, Lambda\n",
    "end"
   ]
  },
  {
   "cell_type": "code",
   "execution_count": null,
   "metadata": {
    "slideshow": {
     "slide_type": "slide"
    }
   },
   "outputs": [],
   "source": [
    "function simula_Epiestim(R,incidence_0,dias;si=si_distr)\n",
    "\n",
    "    pesos = si_distr.((0:30))\n",
    "    pesos = pesos[2:end]\n",
    "    h = length(pesos)\n",
    "\n",
    "    m=length(incidence_0)\n",
    "    \n",
    "    incidence=zeros(dias+m)\n",
    "    Lambda = zeros(dias+m)\n",
    "\n",
    "    incidence[1:m] = incidence_0;\n",
    "    \n",
    "    for i=m:dias+m-1\n",
    "        Lambda[i+1] = sum(incidence[i:-1:max(i-h+1,1)].*pesos[1:min(i,h)])\n",
    "        incidence[i+1] = rand(Poisson(R*Lambda[i+1]))\n",
    "    end\n",
    "\n",
    "    return incidence\n",
    "end"
   ]
  },
  {
   "cell_type": "code",
   "execution_count": null,
   "metadata": {},
   "outputs": [],
   "source": [
    "using LightGraphs, GraphPlot, GraphRecipes"
   ]
  },
  {
   "cell_type": "code",
   "execution_count": null,
   "metadata": {},
   "outputs": [],
   "source": [
    "#Grafo Inicial\n",
    "\n",
    "#infectados iniciales\n",
    "n0=50\n",
    "g=SimpleDiGraph(n0)\n",
    "t_contagio=zeros(Int64,n0)\n",
    "t_cuarentena=ones(Int64,n0)*Inf\n",
    "estado = ones(Int64,n0)    #1 infectado, 2 cuarentenado\n",
    "n=n0\n",
    "\n",
    "dias=15\n",
    "R=3\n",
    "delay=3\n",
    "K=Inf\n",
    "\n",
    "T=[0]\n",
    "I=[n0]\n",
    "Incidence=[n0]\n",
    "Q=[0]"
   ]
  },
  {
   "cell_type": "code",
   "execution_count": null,
   "metadata": {},
   "outputs": [],
   "source": [
    "for i=1:dias\n",
    "    ###NUEVOS CONTAGIOS\n",
    "    incidence=0\n",
    "    for v in vertices(g)\n",
    "        \n",
    "        if estado[v]==1\n",
    "            n_children = rand(Poisson(R*si_distr(i-t_contagio[v])))\n",
    "            if n_children>0\n",
    "                incidence = incidence+n_children\n",
    "                for j=n+1:n+n_children\n",
    "                    add_vertex!(g)\n",
    "                    push!(t_contagio,i)\n",
    "                    push!(t_cuarentena,Inf)\n",
    "                    push!(estado,1)\n",
    "                    add_edge!(g,v,j)\n",
    "                    n=n+1\n",
    "                end\n",
    "            end\n",
    "        end\n",
    "    end\n",
    "    \n",
    "    cupo=0\n",
    "    \n",
    "    ###NODOS A CUARENTENA\n",
    "    for v in Iterators.reverse(vertices(g))\n",
    "        \n",
    "        edad = i-t_contagio[v]\n",
    "\n",
    "        if edad>=delay && cupo<K\n",
    "            if estado[v]==1\n",
    "                estado[v]=2\n",
    "                t_cuarentena[v]=i\n",
    "                cupo=cupo+1\n",
    "                for hijo in neighbors(g,v)\n",
    "                    if estado[hijo]==1\n",
    "                        cupo=cupo+1\n",
    "                        estado[hijo]=2\n",
    "                        t_cuarentena[hijo]=i\n",
    "                        for nieto in neighbors(g,hijo)\n",
    "                            if estado[nieto]==1\n",
    "                                cupo=cupo+1\n",
    "                                estado[nieto]=2\n",
    "                                t_cuarentena[nieto]=i\n",
    "                            end\n",
    "                        end\n",
    "                    end\n",
    "                end\n",
    "            end\n",
    "        end\n",
    "    end\n",
    "    #println(cupo)\n",
    "    push!(T,i)\n",
    "    push!(Incidence, incidence)\n",
    "    push!(I, sum(estado.==1))\n",
    "    push!(Q, sum(estado.==2))\n",
    "\n",
    "end\n",
    "g"
   ]
  },
  {
   "cell_type": "code",
   "execution_count": null,
   "metadata": {},
   "outputs": [],
   "source": [
    "Reff = R*sum(si_distr.(1:delay))"
   ]
  },
  {
   "cell_type": "code",
   "execution_count": null,
   "metadata": {},
   "outputs": [],
   "source": [
    "#c=distinguishable_colors(3,colorant\"red\")\n",
    "#colors = [c[estado[v]] for v in vertices(g)]\n",
    "#colors[1:n0] .= c[3]\n",
    "#plot(g,curves=false,nodecolor=colors,size=(1000,1000))"
   ]
  },
  {
   "cell_type": "code",
   "execution_count": null,
   "metadata": {},
   "outputs": [],
   "source": [
    "plot(T,I)\n",
    "plot!(T,Q)"
   ]
  },
  {
   "cell_type": "code",
   "execution_count": null,
   "metadata": {},
   "outputs": [],
   "source": [
    "bar(T,Incidence)"
   ]
  },
  {
   "cell_type": "code",
   "execution_count": null,
   "metadata": {},
   "outputs": [],
   "source": [
    "bar(T[2:end],diff(Q))"
   ]
  },
  {
   "cell_type": "code",
   "execution_count": null,
   "metadata": {},
   "outputs": [],
   "source": [
    "R,Rl,RU,a,b,Lambda = epi_estim_R(Incidence)\n",
    "plot(T,R, ylim=(0,4))"
   ]
  },
  {
   "cell_type": "code",
   "execution_count": null,
   "metadata": {},
   "outputs": [],
   "source": [
    "using StatsBase\n",
    "q=findall(t_cuarentena.<Inf)\n",
    "h=fit(Histogram,t_cuarentena[q]-t_contagio[q])\n",
    "plot(h)"
   ]
  },
  {
   "cell_type": "code",
   "execution_count": null,
   "metadata": {},
   "outputs": [],
   "source": []
  }
 ],
 "metadata": {
  "@webio": {
   "lastCommId": null,
   "lastKernelId": null
  },
  "celltoolbar": "Slideshow",
  "kernelspec": {
   "display_name": "Julia 1.5.3",
   "language": "julia",
   "name": "julia-1.5"
  },
  "language_info": {
   "file_extension": ".jl",
   "mimetype": "application/julia",
   "name": "julia",
   "version": "1.5.3"
  },
  "latex_envs": {
   "LaTeX_envs_menu_present": true,
   "autoclose": false,
   "autocomplete": true,
   "bibliofile": "biblio.bib",
   "cite_by": "apalike",
   "current_citInitial": 1,
   "eqLabelWithNumbers": true,
   "eqNumInitial": 1,
   "hotkeys": {
    "equation": "Ctrl-E",
    "itemize": "Ctrl-I"
   },
   "labels_anchors": false,
   "latex_user_defs": false,
   "report_style_numbering": false,
   "user_envs_cfg": false
  }
 },
 "nbformat": 4,
 "nbformat_minor": 4
}
